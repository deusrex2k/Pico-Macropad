{
 "cells": [
  {
   "cell_type": "markdown",
   "metadata": {},
   "source": [
    "# img_to_code.ipynb\n",
    "\n",
    "I used this notebook to create the startup animation for the display\n",
    "\n",
    "1. I created the images with Aseprite (you can find them in `/doc/media/`).\n",
    "2. This notebook then searches the images for white pixels and saves the coordinates in two arrays.\n",
    "3. The finished arrays can be simply coped to `display_animation.h` into the namespace"
   ]
  },
  {
   "cell_type": "markdown",
   "metadata": {},
   "source": [
    "# image to array"
   ]
  },
  {
   "cell_type": "code",
   "execution_count": null,
   "metadata": {},
   "outputs": [],
   "source": [
    "import cv2\n",
    "import numpy as np\n",
    "\n",
    "img = []\n",
    "\n",
    "for i in range(2, 15):\n",
    "\timg.append(cv2.imread(\"C:/Users/arvid/Desktop/startup-animation\" + str(i) + \".bmp\", 0))\n",
    "\n",
    "print(len(img))\n",
    "# print(img)"
   ]
  },
  {
   "cell_type": "markdown",
   "metadata": {},
   "source": [
    "# making c++ code lines"
   ]
  },
  {
   "cell_type": "code",
   "execution_count": null,
   "metadata": {},
   "outputs": [],
   "source": [
    "code_x = \"byte x[13][512] = {\"\n",
    "code_y = \"byte y[13][512] = {\"\n",
    "\n",
    "\n",
    "# search for on pixel\n",
    "for i in img:\n",
    "\n",
    "\txc = []\n",
    "\tyc = []\n",
    "\n",
    "\tfor y, row in enumerate(i):\n",
    "\n",
    "\t\t# code_x += \"{\"\n",
    "\t\t# code_y += \"{\"\n",
    "\n",
    "\t\tfor x, pixel in enumerate(row):\n",
    "\n",
    "\t\t\tif pixel == 255:\n",
    "\n",
    "\t\t\t\txc.append(x)\n",
    "\t\t\t\tyc.append(y)\n",
    "\n",
    "\td = 512 - len(xc)\n",
    "\n",
    "\tfor i in range(d):\n",
    "\t\txc.append(-1)\n",
    "\t\tyc.append(-1)\n",
    "\n",
    "\tcode_x += str(xc).replace(\"[\", \"{\").replace(\"]\", \"},\")\n",
    "\tcode_y += str(yc).replace(\"[\", \"{\").replace(\"]\", \"},\")\n",
    "\t\n",
    "\n",
    "code_x += \"};\"\n",
    "code_y += \"};\"\n",
    "\n",
    "print(code_x)\n",
    "print(\"\\n\\n\")\n",
    "print(code_y)"
   ]
  }
 ],
 "metadata": {
  "interpreter": {
   "hash": "ac59ebe37160ed0dfa835113d9b8498d9f09ceb179beaac4002f036b9467c963"
  },
  "kernelspec": {
   "display_name": "Python 3.9.7 64-bit",
   "language": "python",
   "name": "python3"
  },
  "language_info": {
   "codemirror_mode": {
    "name": "ipython",
    "version": 3
   },
   "file_extension": ".py",
   "mimetype": "text/x-python",
   "name": "python",
   "nbconvert_exporter": "python",
   "pygments_lexer": "ipython3",
   "version": "3.9.7"
  },
  "orig_nbformat": 4
 },
 "nbformat": 4,
 "nbformat_minor": 2
}
